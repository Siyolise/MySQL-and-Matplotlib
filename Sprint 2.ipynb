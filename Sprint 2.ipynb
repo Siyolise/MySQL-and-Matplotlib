{
 "cells": [
  {
   "cell_type": "code",
   "execution_count": 1,
   "metadata": {},
   "outputs": [],
   "source": [
    "#MySQL Section"
   ]
  },
  {
   "cell_type": "code",
   "execution_count": 2,
   "metadata": {
    "scrolled": true
   },
   "outputs": [
    {
     "name": "stdout",
     "output_type": "stream",
     "text": [
      "This is the data from Sprint 1 \n",
      "\n",
      "(1, 'Chips', 'Simba/Lays')\n",
      "(2, 'Cooldrinks', 'Coke/Fanta')\n",
      "(3, 'Chocolates', 'Cadbury/Tex')\n",
      "(4, 'Pies', 'Pepper Steak/Chicken')\n",
      "(5, 'Fruit', 'Pear/Apple/Orange')\n",
      "(6, 'Cupcakes', 'Vanilla/Chocolate')\n",
      "(7, 'Veggies', 'Spinach/Cabbage')\n"
     ]
    }
   ],
   "source": [
    "#Import the pymsql module.\n",
    "import pymysql\n",
    "\n",
    "#Create a connection to the MySQL database using pymysql's connect() function.\n",
    "conn = pymysql.connect(host='127.0.0.1',\n",
    "                      user='root',\n",
    "                      password='Siyo@2020',\n",
    "                      db='mydb')\n",
    "#Create a cursor using cursor() function to be able to execute the SQL query.\n",
    "cursor = conn.cursor()\n",
    "\n",
    "#Execute the required query\n",
    "cursor.execute(\"SELECT * FROM databa\")\n",
    "    \n",
    "#Fetch all the records.\n",
    "mydata = cursor.fetchall()\n",
    "\n",
    "#Create a loop to select each row one by one.\n",
    "print('This is the data from Sprint 1 \\n')\n",
    "for i in mydata:\n",
    "    print(i)\n",
    "    \n",
    "#Close the connection\n",
    "conn.close()"
   ]
  },
  {
   "cell_type": "code",
   "execution_count": 3,
   "metadata": {},
   "outputs": [],
   "source": [
    "#--------------------------------------------------------------------------------------------------------\n",
    "#Matplotlib Part "
   ]
  },
  {
   "cell_type": "code",
   "execution_count": 4,
   "metadata": {},
   "outputs": [],
   "source": [
    "import matplotlib.pyplot as plt\n",
    "import pandas as pd\n",
    "import numpy as np"
   ]
  },
  {
   "cell_type": "code",
   "execution_count": 6,
   "metadata": {},
   "outputs": [
    {
     "name": "stdout",
     "output_type": "stream",
     "text": [
      "   ID     Product                 Items  Total Price\n",
      "a   1       Chips            Simba/Lays           38\n",
      "b   2  Cooldrinks            Coke/Fanta           22\n",
      "c   3  Chocolates           Cadbury/Tex           16\n",
      "d   4        Pies  Pepper Steak/Chicken           47\n",
      "e   5       Fruit     Pear/Apple/Orange           18\n",
      "f   6    Cupcakes     Vanilla/Chocolate           29\n",
      "g   7     Veggies       Spinach/Cabbage           24\n"
     ]
    },
    {
     "data": {
      "image/png": "[encoded data removed]",
      "text/plain": [
       "<Figure size 432x288 with 1 Axes>"
      ]
     },
     "metadata": {
      "needs_background": "light"
     },
     "output_type": "display_data"
    }
   ],
   "source": [
    "df = pd.read_csv('Sprint.csv')        #Import dataframe csv from sprint 1.\n",
    "\n",
    "index = ['a','b','c','d','e','f','g']   #create an index into alphabets.\n",
    "df.index = index                      #adding the alphabetic index into a dataframe.\n",
    "\n",
    "df.insert(0,'ID',np.arange(1,8),True)    #Insert column 'ID' in first position.\n",
    "df.insert(3,'Total Price',[38,22,16,47,18,29,24],True)   #Insert column ;Total price' in second position.\n",
    "#outputs the dataframe.\n",
    "print(df)\n",
    "#giving values to x and y.\n",
    "x = np.arange(1,8)\n",
    "y = [38,22,16,47,18,29,24]\n",
    "#plotting the x and y points\n",
    "plt.plot(x,y)\n",
    "#giving title to the graph\n",
    "plt.title('Item ID vs Total Prices')\n",
    "#labelling the x-axis\n",
    "plt.xlabel('Item_id')\n",
    "#labelling the y-axis\n",
    "plt.ylabel('Total Price')\n",
    "#setting the bar graph to display\n",
    "plt.bar(x,y)\n",
    "#function to show the plot.\n",
    "plt.show()"
   ]
  },
  {
   "cell_type": "code",
   "execution_count": null,
   "metadata": {},
   "outputs": [],
   "source": []
  }
 ],
 "metadata": {
  "kernelspec": {
   "display_name": "Python 3",
   "language": "python",
   "name": "python3"
  },
  "language_info": {
   "codemirror_mode": {
    "name": "ipython",
    "version": 3
   },
   "file_extension": ".py",
   "mimetype": "text/x-python",
   "name": "python",
   "nbconvert_exporter": "python",
   "pygments_lexer": "ipython3",
   "version": "3.7.6"
  }
 },
 "nbformat": 4,
 "nbformat_minor": 4
}
